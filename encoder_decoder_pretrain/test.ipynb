{
 "cells": [
  {
   "cell_type": "code",
   "execution_count": 1,
   "metadata": {},
   "outputs": [
    {
     "name": "stderr",
     "output_type": "stream",
     "text": [
      "/root/miniconda3/envs/watermark/lib/python3.10/site-packages/torch/nn/modules/loss.py:535: UserWarning: Using a target size (torch.Size([1, 48])) that is different to the input size (torch.Size([48])). This will likely lead to incorrect results due to broadcasting. Please ensure they have the same size.\n",
      "  return F.mse_loss(input, target, reduction=self.reduction)\n"
     ]
    },
    {
     "name": "stdout",
     "output_type": "stream",
     "text": [
      "loss bits 0.07999999821186066\n",
      "bit error percentage 0.17%\n",
      "loss 0.0027636217419058084\n"
     ]
    }
   ],
   "source": [
    "from watermark_model import Watermark\n",
    "import torch\n",
    "import numpy as np\n",
    "import argparse\n",
    "from scipy.stats import normaltest\n",
    "from watermark_model import *\n",
    "device = 'cuda' if torch.cuda.is_available() else 'cpu'\n",
    "torch.set_printoptions(sci_mode=False,profile='full')\n",
    "\n",
    "if __name__ == '__main__':\n",
    "    parser = argparse.ArgumentParser(description='decoder-encoder pretrain')\n",
    "    parser.add_argument('--secret_length', default=48, type=int)\n",
    "    args =parser.parse_known_args()[0]\n",
    "    \n",
    "model=Watermark(secret_length=args.secret_length).to(device)\n",
    "model.load_state_dict(torch.load('./model48bit.pth'))\n",
    "model.eval()\n",
    "\n",
    "Metric=[]\n",
    "Loss=[]\n",
    "for i in range(100):\n",
    "    secret=torch.Tensor(np.random.choice([0, 1], size=(args.secret_length))).to(device)\n",
    "    secret = secret.unsqueeze(-1).unsqueeze(-1).unsqueeze(0)\n",
    "    secret = secret.expand(-1,-1,64,64)\n",
    "    y, mean, logvar = model(secret)\n",
    "\n",
    "    mean=mean.reshape(-1,64,64)\n",
    "    logvar=logvar.reshape(-1,64,64)\n",
    "    eps = torch.randn_like(logvar)\n",
    "    std = torch.exp(logvar / 2)\n",
    "    matrix = eps * std + mean\n",
    "    average_tensor1 = torch.mean(secret, dim=(-2, -1))\n",
    "    average_tensor2 = torch.round(torch.mean(y[0], dim=(-2, -1)))\n",
    "    average_tensor3 = torch.mean(y[0], dim=(-2, -1))\n",
    "    # print(average_tensor1, average_tensor2, average_tensor3)\n",
    "\n",
    "    biterror=torch.sum(abs(average_tensor1-average_tensor2))\n",
    "    mse_loss = torch.nn.MSELoss()\n",
    "    loss = mse_loss(average_tensor3, average_tensor1)\n",
    "    Metric.append(biterror)\n",
    "    Loss.append(loss)\n",
    "    stat, p1 = normaltest(matrix.view(-1).cpu().detach().clone().numpy())\n",
    "    # print(p1)\n",
    "\n",
    "biterror=torch.mean(torch.stack(Metric))\n",
    "biterrper=biterror/args.secret_length\n",
    "metric=torch.mean(torch.stack(Loss))\n",
    "print(f'loss bits',f'{biterror.cpu().detach().numpy()}')\n",
    "print(f'bit error percentage {biterrper*100:.2f}%')\n",
    "print(f'loss',f'{metric.cpu().detach()}')"
   ]
  }
 ],
 "metadata": {
  "kernelspec": {
   "display_name": "watermark",
   "language": "python",
   "name": "python3"
  },
  "language_info": {
   "codemirror_mode": {
    "name": "ipython",
    "version": 3
   },
   "file_extension": ".py",
   "mimetype": "text/x-python",
   "name": "python",
   "nbconvert_exporter": "python",
   "pygments_lexer": "ipython3",
   "version": "3.10.6"
  }
 },
 "nbformat": 4,
 "nbformat_minor": 2
}
