{
 "cells": [
  {
   "cell_type": "code",
   "execution_count": 1,
   "metadata": {},
   "outputs": [
    {
     "ename": "RuntimeError",
     "evalue": "PytorchStreamReader failed reading zip archive: failed finding central directory",
     "output_type": "error",
     "traceback": [
      "\u001b[0;31m---------------------------------------------------------------------------\u001b[0m",
      "\u001b[0;31mRuntimeError\u001b[0m                              Traceback (most recent call last)",
      "Cell \u001b[0;32mIn[1], line 66\u001b[0m\n\u001b[1;32m     64\u001b[0m optimizer \u001b[38;5;241m=\u001b[39m torch\u001b[38;5;241m.\u001b[39moptim\u001b[38;5;241m.\u001b[39mAdam(model\u001b[38;5;241m.\u001b[39mparameters(), args\u001b[38;5;241m.\u001b[39mlr)\n\u001b[1;32m     65\u001b[0m \u001b[38;5;28;01mif\u001b[39;00m args\u001b[38;5;241m.\u001b[39mload_path \u001b[38;5;241m!=\u001b[39m \u001b[38;5;28;01mNone\u001b[39;00m:\n\u001b[0;32m---> 66\u001b[0m      model\u001b[38;5;241m.\u001b[39mload_state_dict(\u001b[43mtorch\u001b[49m\u001b[38;5;241;43m.\u001b[39;49m\u001b[43mload\u001b[49m\u001b[43m(\u001b[49m\u001b[43margs\u001b[49m\u001b[38;5;241;43m.\u001b[39;49m\u001b[43mload_path\u001b[49m\u001b[43m)\u001b[49m)\n\u001b[1;32m     67\u001b[0m model\u001b[38;5;241m=\u001b[39mtrain(device, model, optimizer,args)\n\u001b[1;32m     68\u001b[0m torch\u001b[38;5;241m.\u001b[39msave(model\u001b[38;5;241m.\u001b[39mstate_dict(),args\u001b[38;5;241m.\u001b[39msave_path)\n",
      "File \u001b[0;32m~/miniconda3/envs/watermark/lib/python3.10/site-packages/torch/serialization.py:1005\u001b[0m, in \u001b[0;36mload\u001b[0;34m(f, map_location, pickle_module, weights_only, mmap, **pickle_load_args)\u001b[0m\n\u001b[1;32m   1003\u001b[0m orig_position \u001b[38;5;241m=\u001b[39m opened_file\u001b[38;5;241m.\u001b[39mtell()\n\u001b[1;32m   1004\u001b[0m overall_storage \u001b[38;5;241m=\u001b[39m \u001b[38;5;28;01mNone\u001b[39;00m\n\u001b[0;32m-> 1005\u001b[0m \u001b[38;5;28;01mwith\u001b[39;00m \u001b[43m_open_zipfile_reader\u001b[49m\u001b[43m(\u001b[49m\u001b[43mopened_file\u001b[49m\u001b[43m)\u001b[49m \u001b[38;5;28;01mas\u001b[39;00m opened_zipfile:\n\u001b[1;32m   1006\u001b[0m     \u001b[38;5;28;01mif\u001b[39;00m _is_torchscript_zip(opened_zipfile):\n\u001b[1;32m   1007\u001b[0m         warnings\u001b[38;5;241m.\u001b[39mwarn(\u001b[38;5;124m\"\u001b[39m\u001b[38;5;124m'\u001b[39m\u001b[38;5;124mtorch.load\u001b[39m\u001b[38;5;124m'\u001b[39m\u001b[38;5;124m received a zip file that looks like a TorchScript archive\u001b[39m\u001b[38;5;124m\"\u001b[39m\n\u001b[1;32m   1008\u001b[0m                       \u001b[38;5;124m\"\u001b[39m\u001b[38;5;124m dispatching to \u001b[39m\u001b[38;5;124m'\u001b[39m\u001b[38;5;124mtorch.jit.load\u001b[39m\u001b[38;5;124m'\u001b[39m\u001b[38;5;124m (call \u001b[39m\u001b[38;5;124m'\u001b[39m\u001b[38;5;124mtorch.jit.load\u001b[39m\u001b[38;5;124m'\u001b[39m\u001b[38;5;124m directly to\u001b[39m\u001b[38;5;124m\"\u001b[39m\n\u001b[1;32m   1009\u001b[0m                       \u001b[38;5;124m\"\u001b[39m\u001b[38;5;124m silence this warning)\u001b[39m\u001b[38;5;124m\"\u001b[39m, \u001b[38;5;167;01mUserWarning\u001b[39;00m)\n",
      "File \u001b[0;32m~/miniconda3/envs/watermark/lib/python3.10/site-packages/torch/serialization.py:457\u001b[0m, in \u001b[0;36m_open_zipfile_reader.__init__\u001b[0;34m(self, name_or_buffer)\u001b[0m\n\u001b[1;32m    456\u001b[0m \u001b[38;5;28;01mdef\u001b[39;00m \u001b[38;5;21m__init__\u001b[39m(\u001b[38;5;28mself\u001b[39m, name_or_buffer) \u001b[38;5;241m-\u001b[39m\u001b[38;5;241m>\u001b[39m \u001b[38;5;28;01mNone\u001b[39;00m:\n\u001b[0;32m--> 457\u001b[0m     \u001b[38;5;28msuper\u001b[39m()\u001b[38;5;241m.\u001b[39m\u001b[38;5;21m__init__\u001b[39m(\u001b[43mtorch\u001b[49m\u001b[38;5;241;43m.\u001b[39;49m\u001b[43m_C\u001b[49m\u001b[38;5;241;43m.\u001b[39;49m\u001b[43mPyTorchFileReader\u001b[49m\u001b[43m(\u001b[49m\u001b[43mname_or_buffer\u001b[49m\u001b[43m)\u001b[49m)\n",
      "\u001b[0;31mRuntimeError\u001b[0m: PytorchStreamReader failed reading zip archive: failed finding central directory"
     ]
    }
   ],
   "source": [
    "import torch\n",
    "import torch.nn.functional as F\n",
    "from torch.utils.data import Dataset,DataLoader\n",
    "from watermark_model import Watermark\n",
    "import argparse\n",
    "import numpy as np\n",
    "\n",
    "@torch.no_grad()\n",
    "def reconstruct(device,model,args):\n",
    "        X=[]\n",
    "        for j in range(args.batchsize):\n",
    "                binary=torch.Tensor(np.random.choice([0, 1], size=(args.secret_length))).to(device)\n",
    "                binary = binary.unsqueeze(-1).unsqueeze(-1).unsqueeze(0)\n",
    "                binary = binary.expand(-1,-1,64,64)\n",
    "                X.append(binary)\n",
    "        x=torch.cat(X,dim=0)\n",
    "        output = model(x)\n",
    "        input = x.detach().cpu()\n",
    "        output = output[0].detach().cpu()\n",
    "        average_tensor1 = torch.mean(input, dim=(-2, -1))\n",
    "        average_tensor2 = torch.round(torch.mean(output, dim=(-2, -1)))\n",
    "        print(f'bit error={torch.sum(abs(average_tensor1-average_tensor2))/args.batchsize}')\n",
    "        print(torch.mean(input, dim=(-2, -1))[0],torch.round(torch.mean(output, dim=(-2, -1)))[0],torch.mean(output, dim=(-2, -1))[0])\n",
    "        \n",
    "def train(device, model, optimizer,args):\n",
    "    # train\n",
    "    for i in range(args.steps):\n",
    "            X=[]\n",
    "            for j in range(args.batchsize):\n",
    "                binary=torch.Tensor(np.random.choice([0, 1], size=(args.secret_length))).to(device)\n",
    "                binary = binary.unsqueeze(-1).unsqueeze(-1).unsqueeze(0)\n",
    "                binary = binary.expand(-1,-1,64,64)\n",
    "                X.append(binary)\n",
    "            x=torch.cat(X,dim=0)\n",
    "            y, mean, logvar = model(x)\n",
    "            recloss=F.mse_loss(y,x,reduction='sum')\n",
    "            kl_loss = torch.mean(\n",
    "            -0.5 * torch.sum(1 + logvar - mean**2 - torch.exp(logvar), 1), 0)\n",
    "            kl_loss = args.kl_weight*kl_loss\n",
    "            loss=recloss+kl_loss\n",
    "            optimizer.zero_grad()\n",
    "            loss.backward()\n",
    "            optimizer.step()\n",
    "            if i%500==0:\n",
    "                print(f'step {i}: recloss:{recloss} klloss:{kl_loss} loss={loss}')\n",
    "                reconstruct(device, model, args)\n",
    "                torch.save(model.state_dict(),'model48bit.pth')          \n",
    "    return model\n",
    "        \n",
    "\n",
    "if __name__ == '__main__':\n",
    "    parser = argparse.ArgumentParser(description='encoder-decoder pretraining')\n",
    "    parser.add_argument('--secret_length', default=48, type=int)\n",
    "    parser.add_argument('--steps', default=2000000, type=int)\n",
    "    parser.add_argument('--kl_weight', default=1, type=float)\n",
    "    parser.add_argument('--lr', default=0.0005, type=float)\n",
    "    parser.add_argument('--batchsize', default=64, type=int)\n",
    "    parser.add_argument('--load_path', default='./model48bit.pth', type=str)\n",
    "    parser.add_argument('--save_path', default='./model48bit.pth', type=str)\n",
    "    args =parser.parse_known_args()[0]\n",
    "    device = 'cuda' if torch.cuda.is_available() else 'cpu'\n",
    "    \n",
    "model=Watermark(secret_length=args.secret_length).to(device)\n",
    "optimizer = torch.optim.Adam(model.parameters(), args.lr)\n",
    "if args.load_path != None:\n",
    "     model.load_state_dict(torch.load(args.load_path))\n",
    "model=train(device, model, optimizer,args)\n",
    "torch.save(model.state_dict(),args.save_path)"
   ]
  }
 ],
 "metadata": {
  "kernelspec": {
   "display_name": "watermark",
   "language": "python",
   "name": "python3"
  },
  "language_info": {
   "codemirror_mode": {
    "name": "ipython",
    "version": 3
   },
   "file_extension": ".py",
   "mimetype": "text/x-python",
   "name": "python",
   "nbconvert_exporter": "python",
   "pygments_lexer": "ipython3",
   "version": "3.10.6"
  }
 },
 "nbformat": 4,
 "nbformat_minor": 2
}
